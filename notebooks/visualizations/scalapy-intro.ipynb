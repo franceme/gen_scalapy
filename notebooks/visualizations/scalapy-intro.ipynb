{
 "cells": [
  {
   "cell_type": "markdown",
   "id": "7c2adb17-7745-4702-a2b2-a87da9d6ec8f",
   "metadata": {},
   "source": [
    "# ScalaPy tutorial\n",
    "In this notebook I will show how to use Scalapy -- a library for using python from scala.\n"
   ]
  },
  {
   "cell_type": "code",
   "execution_count": 1,
   "id": "3bf86847-304c-4443-8a57-b0652af8233c",
   "metadata": {},
   "outputs": [
    {
     "data": {
      "text/plain": [
       "\u001b[32mimport \u001b[39m\u001b[36m$ivy.$\u001b[39m"
      ]
     },
     "execution_count": 1,
     "metadata": {},
     "output_type": "execute_result"
    }
   ],
   "source": [
    "import $ivy.`dev.scalapy::scalapy-core:0.5.3`"
   ]
  },
  {
   "cell_type": "markdown",
   "id": "9868a64a-ecd4-4fc0-973b-b0cb2cba4d4f",
   "metadata": {},
   "source": [
    "## Simple usage\n",
    "Scalapy, in its basic, let make it possible to call python function from scala code.\n",
    "It uses scala.Dynamic to make it possible (more details here) inspired by how scala.js works."
   ]
  },
  {
   "cell_type": "code",
   "execution_count": 2,
   "id": "c09e4b53-eb87-4b21-84e0-019e13bde78d",
   "metadata": {},
   "outputs": [
    {
     "data": {
      "text/plain": [
       "\u001b[32mimport \u001b[39m\u001b[36mme.shadaj.scalapy.py\u001b[39m\n",
       "\u001b[32mimport \u001b[39m\u001b[36mme.shadaj.scalapy.py.SeqConverters\u001b[39m"
      ]
     },
     "execution_count": 2,
     "metadata": {},
     "output_type": "execute_result"
    }
   ],
   "source": [
    "// Entrypoint\n",
    "import me.shadaj.scalapy.py\n",
    "import me.shadaj.scalapy.py.SeqConverters // Conversion for Scala-Python list "
   ]
  },
  {
   "cell_type": "code",
   "execution_count": 3,
   "id": "af8b1e7d",
   "metadata": {},
   "outputs": [
    {
     "data": {
      "text/plain": [
       "\u001b[36melements\u001b[39m: \u001b[32mList\u001b[39m[\u001b[32mInt\u001b[39m] = \u001b[33mList\u001b[39m(\u001b[32m10\u001b[39m, \u001b[32m20\u001b[39m, \u001b[32m30\u001b[39m)\n",
       "\u001b[36mpythonList\u001b[39m: \u001b[32mpy\u001b[39m.\u001b[32mAny\u001b[39m = [10, 20, 30]"
      ]
     },
     "execution_count": 3,
     "metadata": {},
     "output_type": "execute_result"
    }
   ],
   "source": [
    "// Convert scala list to python list\n",
    "val elements = 10 :: 20 :: 30 :: Nil\n",
    "val pythonList = elements.toPythonCopy"
   ]
  },
  {
   "cell_type": "code",
   "execution_count": 4,
   "id": "0e4d1a24",
   "metadata": {},
   "outputs": [
    {
     "data": {
      "text/plain": [
       "\u001b[36mres4\u001b[39m: \u001b[32mpy\u001b[39m.\u001b[32mDynamic\u001b[39m = 3"
      ]
     },
     "execution_count": 4,
     "metadata": {},
     "output_type": "execute_result"
    }
   ],
   "source": [
    "// Python operation from scala\n",
    "py.Dynamic.global.len(pythonList)"
   ]
  },
  {
   "cell_type": "code",
   "execution_count": 5,
   "id": "07567ba1",
   "metadata": {},
   "outputs": [
    {
     "data": {
      "text/plain": [
       "\u001b[36mres5\u001b[39m: \u001b[32mpy\u001b[39m.\u001b[32mDynamic\u001b[39m = 60"
      ]
     },
     "execution_count": 5,
     "metadata": {},
     "output_type": "execute_result"
    }
   ],
   "source": [
    "py.Dynamic.global.sum(pythonList)"
   ]
  },
  {
   "cell_type": "code",
   "execution_count": 6,
   "id": "ae2c644d",
   "metadata": {},
   "outputs": [
    {
     "data": {
      "text/plain": [
       "\u001b[36mres6\u001b[39m: \u001b[32mList\u001b[39m[\u001b[32mInt\u001b[39m] = \u001b[33mList\u001b[39m(\u001b[32m10\u001b[39m, \u001b[32m20\u001b[39m, \u001b[32m30\u001b[39m)"
      ]
     },
     "execution_count": 6,
     "metadata": {},
     "output_type": "execute_result"
    }
   ],
   "source": [
    "// Convert back to scala list\n",
    "pythonList.as[List[Int]]"
   ]
  },
  {
   "cell_type": "code",
   "execution_count": 7,
   "id": "fc23f2cd",
   "metadata": {},
   "outputs": [],
   "source": [
    "// Special operation\n",
    "// list[0] = 10\n",
    "pythonList.as[py.Dynamic].bracketUpdate(0, 30)"
   ]
  },
  {
   "cell_type": "code",
   "execution_count": 8,
   "id": "c7735996",
   "metadata": {},
   "outputs": [
    {
     "data": {
      "text/plain": [
       "\u001b[32mimport \u001b[39m\u001b[36mpy.PyQuote\u001b[39m\n",
       "\u001b[36mres8_1\u001b[39m: \u001b[32mpy\u001b[39m.\u001b[32mDynamic\u001b[39m = [31, 21, 31]"
      ]
     },
     "execution_count": 8,
     "metadata": {},
     "output_type": "execute_result"
    }
   ],
   "source": [
    "// Quote code to access to specific python function\n",
    "import py.PyQuote\n",
    "py\"list(map(lambda x: x + 1, $pythonList))\""
   ]
  },
  {
   "cell_type": "code",
   "execution_count": 9,
   "id": "916f2fbe",
   "metadata": {},
   "outputs": [
    {
     "data": {
      "text/plain": [
       "\u001b[36mres9\u001b[39m: \u001b[32mpy\u001b[39m.\u001b[32mDynamic\u001b[39m = 2"
      ]
     },
     "execution_count": 9,
     "metadata": {},
     "output_type": "execute_result"
    }
   ],
   "source": [
    "// Run python code\n",
    "py.eval(\"1 + 1\")"
   ]
  },
  {
   "cell_type": "code",
   "execution_count": 10,
   "id": "9b29f565",
   "metadata": {},
   "outputs": [
    {
     "data": {
      "text/plain": [
       "\u001b[36mos\u001b[39m: \u001b[32mpy\u001b[39m.\u001b[32mModule\u001b[39m = <module 'os' from '/usr/lib/python3.8/os.py'>"
      ]
     },
     "execution_count": 10,
     "metadata": {},
     "output_type": "execute_result"
    }
   ],
   "source": [
    "// Use python module\n",
    "val os = py.module(\"os\")"
   ]
  },
  {
   "cell_type": "code",
   "execution_count": 11,
   "id": "84d0bf92",
   "metadata": {},
   "outputs": [
    {
     "data": {
      "text/plain": [
       "\u001b[36mres11\u001b[39m: \u001b[32mpy\u001b[39m.\u001b[32mDynamic\u001b[39m = /opt/18"
      ]
     },
     "execution_count": 11,
     "metadata": {},
     "output_type": "execute_result"
    }
   ],
   "source": [
    "os.getcwd()"
   ]
  },
  {
   "cell_type": "code",
   "execution_count": 12,
   "id": "449ffb32-204a-465c-8801-d4633ea0065e",
   "metadata": {},
   "outputs": [
    {
     "data": {
      "text/plain": [
       "\u001b[36mfile_name\u001b[39m: \u001b[32mString\u001b[39m = \u001b[32m\"test.svg\"\u001b[39m"
      ]
     },
     "execution_count": 12,
     "metadata": {},
     "output_type": "execute_result"
    }
   ],
   "source": [
    "val file_name:String = \"test.svg\";"
   ]
  },
  {
   "cell_type": "code",
   "execution_count": 13,
   "id": "d2aae9d8-4ed4-42f5-87b9-204a41f49d99",
   "metadata": {},
   "outputs": [
    {
     "data": {
      "text/plain": [
       "\u001b[36msys\u001b[39m: \u001b[32mpy\u001b[39m.\u001b[32mModule\u001b[39m = <module 'sys' (built-in)>"
      ]
     },
     "execution_count": 13,
     "metadata": {},
     "output_type": "execute_result"
    }
   ],
   "source": [
    "val sys = py.module(\"sys\")"
   ]
  },
  {
   "cell_type": "code",
   "execution_count": 14,
   "id": "924d5a48-e4ab-40fb-bb14-85111a980ae2",
   "metadata": {},
   "outputs": [
    {
     "data": {
      "text/plain": [
       "\u001b[36mplt\u001b[39m: \u001b[32mpy\u001b[39m.\u001b[32mModule\u001b[39m = <module 'matplotlib.pyplot' from '/usr/local/lib/python3.8/dist-packages/matplotlib/pyplot.py'>"
      ]
     },
     "execution_count": 14,
     "metadata": {},
     "output_type": "execute_result"
    }
   ],
   "source": [
    "val plt = py.module(\"matplotlib.pyplot\")"
   ]
  },
  {
   "cell_type": "code",
   "execution_count": 15,
   "id": "88945b9c-57fa-4f41-9800-555f573df478",
   "metadata": {},
   "outputs": [
    {
     "data": {
      "text/plain": [
       "\u001b[36mnp\u001b[39m: \u001b[32mpy\u001b[39m.\u001b[32mModule\u001b[39m = <module 'numpy' from '/usr/local/lib/python3.8/dist-packages/numpy/__init__.py'>"
      ]
     },
     "execution_count": 15,
     "metadata": {},
     "output_type": "execute_result"
    }
   ],
   "source": [
    "val np = py.module(\"numpy\")"
   ]
  },
  {
   "cell_type": "code",
   "execution_count": 16,
   "id": "7d21eb10-6b48-473f-acd0-946a4228fad0",
   "metadata": {},
   "outputs": [
    {
     "data": {
      "text/plain": [
       "\u001b[36mfig\u001b[39m: \u001b[32mpy\u001b[39m.\u001b[32mDynamic\u001b[39m = Figure(640x480)"
      ]
     },
     "execution_count": 16,
     "metadata": {},
     "output_type": "execute_result"
    }
   ],
   "source": [
    "val fig = plt.subplots().bracketAccess(0)"
   ]
  },
  {
   "cell_type": "code",
   "execution_count": 17,
   "id": "dc8fa2fe-4859-4748-b01c-71e3207819c5",
   "metadata": {},
   "outputs": [
    {
     "data": {
      "text/plain": [
       "\u001b[36melements\u001b[39m: \u001b[32mList\u001b[39m[\u001b[32mInt\u001b[39m] = \u001b[33mList\u001b[39m(\u001b[32m0\u001b[39m, \u001b[32m5\u001b[39m)\n",
       "\u001b[36mxpoints\u001b[39m: \u001b[32mpy\u001b[39m.\u001b[32mDynamic\u001b[39m = [0 5]\n",
       "\u001b[36mypoints\u001b[39m: \u001b[32mpy\u001b[39m.\u001b[32mDynamic\u001b[39m = [0 5]"
      ]
     },
     "execution_count": 17,
     "metadata": {},
     "output_type": "execute_result"
    }
   ],
   "source": [
    "val elements = 0 :: 5 :: Nil\n",
    "val xpoints = np.array(elements.toPythonCopy)\n",
    "val ypoints = np.array(elements.toPythonCopy)"
   ]
  },
  {
   "cell_type": "code",
   "execution_count": 18,
   "id": "b6650ae5-ef83-4ffb-94df-e6b8272cde83",
   "metadata": {},
   "outputs": [
    {
     "data": {
      "text/plain": [
       "\u001b[36mres18\u001b[39m: \u001b[32mpy\u001b[39m.\u001b[32mDynamic\u001b[39m = [<matplotlib.lines.Line2D object at 0x7f485127ff70>]"
      ]
     },
     "execution_count": 18,
     "metadata": {},
     "output_type": "execute_result"
    }
   ],
   "source": [
    "plt.plot(xpoints, ypoints);"
   ]
  },
  {
   "cell_type": "code",
   "execution_count": 19,
   "id": "f8ce7eae-9907-49e5-9d8b-4f64c8f8f0cb",
   "metadata": {},
   "outputs": [
    {
     "data": {
      "text/plain": [
       "\u001b[36mres19_0\u001b[39m: \u001b[32mpy\u001b[39m.\u001b[32mDynamic\u001b[39m = Text(0, 0.5, 'Y-axis ')\n",
       "\u001b[36mres19_1\u001b[39m: \u001b[32mpy\u001b[39m.\u001b[32mDynamic\u001b[39m = Text(0.5, 0, 'X-axis ')"
      ]
     },
     "execution_count": 19,
     "metadata": {},
     "output_type": "execute_result"
    }
   ],
   "source": [
    "plt.ylabel(\"Y-axis \")\n",
    "plt.xlabel(\"X-axis \")"
   ]
  },
  {
   "cell_type": "code",
   "execution_count": 20,
   "id": "01547b11-f228-4e78-91d4-2bd9831eb544",
   "metadata": {},
   "outputs": [
    {
     "data": {
      "text/plain": [
       "\u001b[36mres20\u001b[39m: \u001b[32mpy\u001b[39m.\u001b[32mDynamic\u001b[39m = None"
      ]
     },
     "execution_count": 20,
     "metadata": {},
     "output_type": "execute_result"
    }
   ],
   "source": [
    "fig.savefig(file_name, format=\"svg\", dpi=1200)"
   ]
  },
  {
   "cell_type": "code",
   "execution_count": 21,
   "id": "a81b5d7c-2c67-4289-811e-84ca0b9b0c34",
   "metadata": {},
   "outputs": [
    {
     "data": {
      "text/html": [
       "\n",
       "<img src = \"test.svg\" alt=\"My Happy SVG\"/>\n"
      ]
     },
     "metadata": {},
     "output_type": "display_data"
    }
   ],
   "source": [
    "html(s\"\"\"\n",
    "<img src = \"$file_name\" alt=\"My Happy SVG\"/>\n",
    "\"\"\")"
   ]
  },
  {
   "cell_type": "raw",
   "id": "e4470633-58ec-4f5a-b7f4-c154c748ac5a",
   "metadata": {},
   "source": [
    "import $ivy.`org.plotly-scala::plotly-almond:0.5.4`"
   ]
  },
  {
   "cell_type": "raw",
   "id": "1ef5bf50-5777-4c1d-98ea-3e9a2aeaa7b0",
   "metadata": {},
   "source": [
    "import plotly._, plotly.element._, plotly.layout._, plotly.Almond._"
   ]
  },
  {
   "cell_type": "raw",
   "id": "9b6aac48-5259-4867-a3d2-c3b51907f19b",
   "metadata": {},
   "source": [
    "val trace1 = Scatter(\n",
    "  Seq(1, 2, 3, 4),\n",
    "  Seq(10, 15, 13, 17)\n",
    ")\n",
    "\n",
    "val trace2 = Scatter(\n",
    "  Seq(1, 2, 3, 4),\n",
    "  Seq(16, 5, 11, 9)\n",
    ")\n",
    "\n",
    "val data = Seq(trace1, trace2)"
   ]
  },
  {
   "cell_type": "raw",
   "id": "2972444e-7c89-43b9-aa2e-429fd8e1e567",
   "metadata": {
    "scrolled": true
   },
   "source": [
    "Plotly.plot(\"div-id\",data,Layout(title=\"arg\"))"
   ]
  },
  {
   "cell_type": "code",
   "execution_count": null,
   "id": "a9a66eba-5407-42b0-a46d-143f93aff0b1",
   "metadata": {},
   "outputs": [],
   "source": []
  },
  {
   "cell_type": "code",
   "execution_count": null,
   "id": "504d02c8-06dc-4151-99e0-d33642cd90f2",
   "metadata": {},
   "outputs": [],
   "source": []
  },
  {
   "cell_type": "raw",
   "id": "dc511f53-9c53-4e1d-a243-6767a0ff3efa",
   "metadata": {},
   "source": [
    "py\"import os,sys\"\n",
    "py\"os.system('{0} -m pip install --upgrade matplotlib numpy'.format(sys.executable))\"\n",
    "py\"import matplotlib.pyplot as plt\"\n",
    "py\"import numpy as np\"\n",
    "py\"fig, ax = plt.subplots()\"\n",
    "py\"xpoints = np.array([0, 5])\"\n",
    "py\"ypoints = np.array([0, 5])\"\n",
    "py\"plt.plot(xpoints, ypoints)\"\n",
    "py\"plt.ylabel('Y-axis ')\"\n",
    "py\"plt.xlabel('X-axis ')\"\n",
    "py\"image_format = 'svg' # e.g .png, .svg, etc.\"\n",
    "py\"image_name = 'test.svg'\"\n",
    "py\"fig.savefig(image_name, format=image_format, dpi=1200)\"\n"
   ]
  },
  {
   "cell_type": "raw",
   "id": "b29d69bd-c439-4d30-8650-1f3b1f067928",
   "metadata": {},
   "source": [
    "![](test.svg)"
   ]
  }
 ],
 "metadata": {
  "kernelspec": {
   "display_name": "Scala",
   "language": "scala",
   "name": "scala"
  },
  "language_info": {
   "codemirror_mode": "text/x-scala",
   "file_extension": ".sc",
   "mimetype": "text/x-scala",
   "name": "scala",
   "nbconvert_exporter": "script",
   "version": "2.12.13"
  }
 },
 "nbformat": 4,
 "nbformat_minor": 5
}
